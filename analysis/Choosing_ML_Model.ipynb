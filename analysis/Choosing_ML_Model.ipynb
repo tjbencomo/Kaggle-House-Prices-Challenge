{
 "cells": [
  {
   "cell_type": "markdown",
   "metadata": {},
   "source": [
    "# Choosing a Machine Learning Algorithm"
   ]
  },
  {
   "cell_type": "markdown",
   "metadata": {},
   "source": [
    "First we are going to test the performance of several different ML algorithms on our train data, so we can then optimize the best model"
   ]
  },
  {
   "cell_type": "markdown",
   "metadata": {},
   "source": [
    "Going to test the following algorithms:\n",
    "1. Lasso\n",
    "2. ElasticNet\n",
    "3. Linear Regression\n",
    "4. Ridge Regression\n",
    "5. SVR Kernel(Linear)\n",
    "6. SVR Kernel(rbf)\n",
    "7. Ensemble Regressors (RandomForest)"
   ]
  },
  {
   "cell_type": "markdown",
   "metadata": {},
   "source": [
    "## Load Data"
   ]
  },
  {
   "cell_type": "code",
   "execution_count": 19,
   "metadata": {},
   "outputs": [],
   "source": [
    "import pandas as pd\n",
    "from sklearn.model_selection import train_test_split\n",
    "from sklearn.preprocessing import PolynomialFeatures\n",
    "\n",
    "data = pd.read_csv('/Users/Tomas/Desktop/Kaggle-House-Prices-Challenge/data/final_train.csv', index_col=0)\n",
    "prices = data['SalePrice']\n",
    "data = data.drop(['SalePrice'], axis=1)\n",
    "\n",
    "\n",
    "poly = PolynomialFeatures(2)\n",
    "data = poly.fit_transform(data)"
   ]
  },
  {
   "cell_type": "code",
   "execution_count": 20,
   "metadata": {},
   "outputs": [
    {
     "name": "stdout",
     "output_type": "stream",
     "text": [
      "(1460, 36856)\n"
     ]
    }
   ],
   "source": [
    "print(data.shape)"
   ]
  },
  {
   "cell_type": "code",
   "execution_count": 21,
   "metadata": {},
   "outputs": [
    {
     "name": "stdout",
     "output_type": "stream",
     "text": [
      "(876, 36856)\n",
      "(876,)\n",
      "(292, 36856)\n",
      "(292,)\n",
      "(292, 36856)\n",
      "(292,)\n"
     ]
    }
   ],
   "source": [
    "# split into train, validation, test\n",
    "X_train, X_test, y_train, y_test = train_test_split(data, prices, test_size=0.4, random_state=1)\n",
    "X_validation, X_test, y_validation, y_test = train_test_split(X_test, y_test, test_size=0.5, random_state=1)\n",
    "print(X_train.shape)\n",
    "print(y_train.shape)\n",
    "print(X_test.shape)\n",
    "print(y_test.shape)\n",
    "print(X_validation.shape)\n",
    "print(y_validation.shape)"
   ]
  },
  {
   "cell_type": "markdown",
   "metadata": {},
   "source": [
    "The goal is to find the model with the best baseline performance, and then we can tune the hyperparameters for that model through GridSearch"
   ]
  },
  {
   "cell_type": "markdown",
   "metadata": {},
   "source": [
    "## Lasso "
   ]
  },
  {
   "cell_type": "code",
   "execution_count": 23,
   "metadata": {},
   "outputs": [
    {
     "name": "stdout",
     "output_type": "stream",
     "text": [
      "29596.85147428503\n"
     ]
    }
   ],
   "source": [
    "from sklearn import linear_model\n",
    "from sklearn.pipeline import Pipeline\n",
    "from sklearn.decomposition import PCA\n",
    "from sklearn.metrics import mean_squared_error\n",
    "from math import sqrt\n",
    "\n",
    "lasso = Pipeline([('pca', PCA(.95)), \n",
    "                     ('regr', linear_model.Lasso())])\n",
    "lasso.fit(X_train, y_train)\n",
    "predictions = lasso.predict(X_validation)\n",
    "print(sqrt(mean_squared_error(y_validation, predictions)))"
   ]
  },
  {
   "cell_type": "markdown",
   "metadata": {},
   "source": [
    "## ElasticNet"
   ]
  },
  {
   "cell_type": "code",
   "execution_count": 24,
   "metadata": {},
   "outputs": [
    {
     "name": "stdout",
     "output_type": "stream",
     "text": [
      "30084.579153483595\n"
     ]
    }
   ],
   "source": [
    "elasticnet = Pipeline([('pca', PCA(.95)), \n",
    "                      ('regr', linear_model.ElasticNet())])\n",
    "elasticnet.fit(X_train, y_train)\n",
    "ELPredictions = elasticnet.predict(X_validation)\n",
    "print(sqrt(mean_squared_error(y_validation, ELPredictions)))"
   ]
  },
  {
   "cell_type": "markdown",
   "metadata": {},
   "source": [
    "## Linear Regression"
   ]
  },
  {
   "cell_type": "code",
   "execution_count": 25,
   "metadata": {},
   "outputs": [
    {
     "name": "stdout",
     "output_type": "stream",
     "text": [
      "29595.506114194606\n"
     ]
    }
   ],
   "source": [
    "linearreg = Pipeline([('pca', PCA(.95)), \n",
    "                      ('regr', linear_model.LinearRegression())])\n",
    "linearreg.fit(X_train, y_train)\n",
    "p = linearreg.predict(X_validation)\n",
    "print(sqrt(mean_squared_error(y_validation, p)))"
   ]
  },
  {
   "cell_type": "markdown",
   "metadata": {},
   "source": [
    "## Ridge Regression"
   ]
  },
  {
   "cell_type": "code",
   "execution_count": 26,
   "metadata": {},
   "outputs": [
    {
     "name": "stdout",
     "output_type": "stream",
     "text": [
      "29596.128643553104\n"
     ]
    }
   ],
   "source": [
    "ridge = Pipeline([('pca', PCA(.95)), \n",
    "                     ('regr', linear_model.Ridge())])\n",
    "ridge.fit(X_train, y_train)\n",
    "predictions = ridge.predict(X_validation)\n",
    "print(sqrt(mean_squared_error(y_validation, predictions)))"
   ]
  },
  {
   "cell_type": "markdown",
   "metadata": {},
   "source": [
    "## Support Vector Machines"
   ]
  },
  {
   "cell_type": "code",
   "execution_count": 27,
   "metadata": {},
   "outputs": [
    {
     "name": "stdout",
     "output_type": "stream",
     "text": [
      "49844.468014612044\n"
     ]
    }
   ],
   "source": [
    "from sklearn import svm\n",
    "\n",
    "linear_svr = Pipeline([('pca', PCA(.95)), \n",
    "                      ('regr', svm.SVR(kernel='linear'))])\n",
    "linear_svr.fit(X_train, y_train)\n",
    "predictions = linear_svr.predict(X_validation)\n",
    "print(sqrt(mean_squared_error(y_validation, predictions)))"
   ]
  },
  {
   "cell_type": "code",
   "execution_count": 28,
   "metadata": {},
   "outputs": [
    {
     "name": "stdout",
     "output_type": "stream",
     "text": [
      "88698.54847264643\n"
     ]
    }
   ],
   "source": [
    "rbf = Pipeline([('pca', PCA(.95)), \n",
    "                      ('regr', svm.SVR(kernel='rbf'))])\n",
    "rbf.fit(X_train, y_train)\n",
    "predictions = rbf.predict(X_validation)\n",
    "print(sqrt(mean_squared_error(y_validation, predictions)))"
   ]
  },
  {
   "cell_type": "markdown",
   "metadata": {},
   "source": [
    "## Random Forest"
   ]
  },
  {
   "cell_type": "code",
   "execution_count": 29,
   "metadata": {},
   "outputs": [
    {
     "name": "stdout",
     "output_type": "stream",
     "text": [
      "39012.94576453533\n"
     ]
    }
   ],
   "source": [
    "from sklearn.ensemble import RandomForestRegressor\n",
    "\n",
    "rf = Pipeline([('pca', PCA(.95)), \n",
    "                      ('regr', RandomForestRegressor(n_jobs=-1))])\n",
    "\n",
    "rf.fit(X_train, y_train)\n",
    "predictions = rf.predict(X_validation)\n",
    "print(sqrt(mean_squared_error(y_validation, predictions)))"
   ]
  },
  {
   "cell_type": "markdown",
   "metadata": {},
   "source": [
    "# Testing"
   ]
  },
  {
   "cell_type": "code",
   "execution_count": 30,
   "metadata": {},
   "outputs": [
    {
     "name": "stdout",
     "output_type": "stream",
     "text": [
      "ElasticNet Performance 23318.062591916772\n",
      "Lasso Performance 24138.131028289234\n",
      "RandomForest Performance 29874.55033616314\n",
      "Linear Regression Performance 24140.469957673748\n",
      "Ridge Regression Performance 24137.856658127275\n",
      "Linear SVR Performance 32220.19637946001\n"
     ]
    }
   ],
   "source": [
    "print(\"ElasticNet Performance {}\".format(sqrt(mean_squared_error(y_test, elasticnet.predict(X_test)))))\n",
    "print(\"Lasso Performance {}\".format(sqrt(mean_squared_error(y_test, lasso.predict(X_test)))))\n",
    "print(\"RandomForest Performance {}\".format(sqrt(mean_squared_error(y_test, rf.predict(X_test)))))\n",
    "print(\"Linear Regression Performance {}\".format(sqrt(mean_squared_error(y_test, linearreg.predict(X_test)))))\n",
    "print(\"Ridge Regression Performance {}\".format(sqrt(mean_squared_error(y_test, ridge.predict(X_test)))))\n",
    "print(\"Linear SVR Performance {}\".format(sqrt(mean_squared_error(y_test, linear_svr.predict(X_test)))))"
   ]
  },
  {
   "cell_type": "markdown",
   "metadata": {},
   "source": [
    "# Submissions"
   ]
  },
  {
   "cell_type": "code",
   "execution_count": 35,
   "metadata": {},
   "outputs": [],
   "source": [
    "test = pd.read_csv('/Users/Tomas/Desktop/Kaggle-House-Prices-Challenge/data/final_test.csv', index_col=0)\n",
    "indices = test.index\n",
    "test = poly.transform(test)"
   ]
  },
  {
   "cell_type": "code",
   "execution_count": 36,
   "metadata": {},
   "outputs": [
    {
     "name": "stdout",
     "output_type": "stream",
     "text": [
      "(1459, 36856)\n"
     ]
    }
   ],
   "source": [
    "print(test.shape)"
   ]
  },
  {
   "cell_type": "code",
   "execution_count": 37,
   "metadata": {},
   "outputs": [],
   "source": [
    "predictions = elasticnet.predict(test)"
   ]
  },
  {
   "cell_type": "code",
   "execution_count": 38,
   "metadata": {},
   "outputs": [
    {
     "data": {
      "text/html": [
       "<div>\n",
       "<style scoped>\n",
       "    .dataframe tbody tr th:only-of-type {\n",
       "        vertical-align: middle;\n",
       "    }\n",
       "\n",
       "    .dataframe tbody tr th {\n",
       "        vertical-align: top;\n",
       "    }\n",
       "\n",
       "    .dataframe thead th {\n",
       "        text-align: right;\n",
       "    }\n",
       "</style>\n",
       "<table border=\"1\" class=\"dataframe\">\n",
       "  <thead>\n",
       "    <tr style=\"text-align: right;\">\n",
       "      <th></th>\n",
       "      <th>0</th>\n",
       "    </tr>\n",
       "    <tr>\n",
       "      <th>Id</th>\n",
       "      <th></th>\n",
       "    </tr>\n",
       "  </thead>\n",
       "  <tbody>\n",
       "    <tr>\n",
       "      <th>1461</th>\n",
       "      <td>102560.328869</td>\n",
       "    </tr>\n",
       "    <tr>\n",
       "      <th>1462</th>\n",
       "      <td>144296.688841</td>\n",
       "    </tr>\n",
       "    <tr>\n",
       "      <th>1463</th>\n",
       "      <td>175885.109505</td>\n",
       "    </tr>\n",
       "    <tr>\n",
       "      <th>1464</th>\n",
       "      <td>189457.465256</td>\n",
       "    </tr>\n",
       "    <tr>\n",
       "      <th>1465</th>\n",
       "      <td>180300.042021</td>\n",
       "    </tr>\n",
       "    <tr>\n",
       "      <th>1466</th>\n",
       "      <td>175108.469820</td>\n",
       "    </tr>\n",
       "    <tr>\n",
       "      <th>1467</th>\n",
       "      <td>179549.838853</td>\n",
       "    </tr>\n",
       "    <tr>\n",
       "      <th>1468</th>\n",
       "      <td>156741.363932</td>\n",
       "    </tr>\n",
       "    <tr>\n",
       "      <th>1469</th>\n",
       "      <td>194478.153921</td>\n",
       "    </tr>\n",
       "    <tr>\n",
       "      <th>1470</th>\n",
       "      <td>123602.024415</td>\n",
       "    </tr>\n",
       "    <tr>\n",
       "      <th>1471</th>\n",
       "      <td>206807.606303</td>\n",
       "    </tr>\n",
       "    <tr>\n",
       "      <th>1472</th>\n",
       "      <td>102619.053958</td>\n",
       "    </tr>\n",
       "    <tr>\n",
       "      <th>1473</th>\n",
       "      <td>97039.785762</td>\n",
       "    </tr>\n",
       "    <tr>\n",
       "      <th>1474</th>\n",
       "      <td>143224.284754</td>\n",
       "    </tr>\n",
       "    <tr>\n",
       "      <th>1475</th>\n",
       "      <td>101562.459213</td>\n",
       "    </tr>\n",
       "    <tr>\n",
       "      <th>1476</th>\n",
       "      <td>392814.511126</td>\n",
       "    </tr>\n",
       "    <tr>\n",
       "      <th>1477</th>\n",
       "      <td>258120.394125</td>\n",
       "    </tr>\n",
       "    <tr>\n",
       "      <th>1478</th>\n",
       "      <td>269917.651396</td>\n",
       "    </tr>\n",
       "    <tr>\n",
       "      <th>1479</th>\n",
       "      <td>287089.254884</td>\n",
       "    </tr>\n",
       "    <tr>\n",
       "      <th>1480</th>\n",
       "      <td>491201.293934</td>\n",
       "    </tr>\n",
       "    <tr>\n",
       "      <th>1481</th>\n",
       "      <td>323090.011441</td>\n",
       "    </tr>\n",
       "    <tr>\n",
       "      <th>1482</th>\n",
       "      <td>203645.449908</td>\n",
       "    </tr>\n",
       "    <tr>\n",
       "      <th>1483</th>\n",
       "      <td>163010.509522</td>\n",
       "    </tr>\n",
       "    <tr>\n",
       "      <th>1484</th>\n",
       "      <td>162613.799240</td>\n",
       "    </tr>\n",
       "    <tr>\n",
       "      <th>1485</th>\n",
       "      <td>170627.749276</td>\n",
       "    </tr>\n",
       "    <tr>\n",
       "      <th>1486</th>\n",
       "      <td>191446.328123</td>\n",
       "    </tr>\n",
       "    <tr>\n",
       "      <th>1487</th>\n",
       "      <td>360225.262074</td>\n",
       "    </tr>\n",
       "    <tr>\n",
       "      <th>1488</th>\n",
       "      <td>219465.070288</td>\n",
       "    </tr>\n",
       "    <tr>\n",
       "      <th>1489</th>\n",
       "      <td>196718.713928</td>\n",
       "    </tr>\n",
       "    <tr>\n",
       "      <th>1490</th>\n",
       "      <td>229823.885017</td>\n",
       "    </tr>\n",
       "    <tr>\n",
       "      <th>...</th>\n",
       "      <td>...</td>\n",
       "    </tr>\n",
       "    <tr>\n",
       "      <th>2890</th>\n",
       "      <td>74595.548776</td>\n",
       "    </tr>\n",
       "    <tr>\n",
       "      <th>2891</th>\n",
       "      <td>133688.840190</td>\n",
       "    </tr>\n",
       "    <tr>\n",
       "      <th>2892</th>\n",
       "      <td>80221.584343</td>\n",
       "    </tr>\n",
       "    <tr>\n",
       "      <th>2893</th>\n",
       "      <td>108412.244826</td>\n",
       "    </tr>\n",
       "    <tr>\n",
       "      <th>2894</th>\n",
       "      <td>81748.185080</td>\n",
       "    </tr>\n",
       "    <tr>\n",
       "      <th>2895</th>\n",
       "      <td>301342.226601</td>\n",
       "    </tr>\n",
       "    <tr>\n",
       "      <th>2896</th>\n",
       "      <td>268247.280215</td>\n",
       "    </tr>\n",
       "    <tr>\n",
       "      <th>2897</th>\n",
       "      <td>219424.761126</td>\n",
       "    </tr>\n",
       "    <tr>\n",
       "      <th>2898</th>\n",
       "      <td>150545.697246</td>\n",
       "    </tr>\n",
       "    <tr>\n",
       "      <th>2899</th>\n",
       "      <td>211071.482097</td>\n",
       "    </tr>\n",
       "    <tr>\n",
       "      <th>2900</th>\n",
       "      <td>159873.289719</td>\n",
       "    </tr>\n",
       "    <tr>\n",
       "      <th>2901</th>\n",
       "      <td>217178.090819</td>\n",
       "    </tr>\n",
       "    <tr>\n",
       "      <th>2902</th>\n",
       "      <td>184856.665538</td>\n",
       "    </tr>\n",
       "    <tr>\n",
       "      <th>2903</th>\n",
       "      <td>334328.336349</td>\n",
       "    </tr>\n",
       "    <tr>\n",
       "      <th>2904</th>\n",
       "      <td>343731.966045</td>\n",
       "    </tr>\n",
       "    <tr>\n",
       "      <th>2905</th>\n",
       "      <td>119098.364194</td>\n",
       "    </tr>\n",
       "    <tr>\n",
       "      <th>2906</th>\n",
       "      <td>194220.207529</td>\n",
       "    </tr>\n",
       "    <tr>\n",
       "      <th>2907</th>\n",
       "      <td>120246.230982</td>\n",
       "    </tr>\n",
       "    <tr>\n",
       "      <th>2908</th>\n",
       "      <td>146434.055062</td>\n",
       "    </tr>\n",
       "    <tr>\n",
       "      <th>2909</th>\n",
       "      <td>144682.452923</td>\n",
       "    </tr>\n",
       "    <tr>\n",
       "      <th>2910</th>\n",
       "      <td>81181.350961</td>\n",
       "    </tr>\n",
       "    <tr>\n",
       "      <th>2911</th>\n",
       "      <td>84216.591493</td>\n",
       "    </tr>\n",
       "    <tr>\n",
       "      <th>2912</th>\n",
       "      <td>143529.652210</td>\n",
       "    </tr>\n",
       "    <tr>\n",
       "      <th>2913</th>\n",
       "      <td>93021.910713</td>\n",
       "    </tr>\n",
       "    <tr>\n",
       "      <th>2914</th>\n",
       "      <td>84560.460381</td>\n",
       "    </tr>\n",
       "    <tr>\n",
       "      <th>2915</th>\n",
       "      <td>92608.389791</td>\n",
       "    </tr>\n",
       "    <tr>\n",
       "      <th>2916</th>\n",
       "      <td>83644.499427</td>\n",
       "    </tr>\n",
       "    <tr>\n",
       "      <th>2917</th>\n",
       "      <td>174349.209753</td>\n",
       "    </tr>\n",
       "    <tr>\n",
       "      <th>2918</th>\n",
       "      <td>111659.610585</td>\n",
       "    </tr>\n",
       "    <tr>\n",
       "      <th>2919</th>\n",
       "      <td>228019.091346</td>\n",
       "    </tr>\n",
       "  </tbody>\n",
       "</table>\n",
       "<p>1459 rows × 1 columns</p>\n",
       "</div>"
      ],
      "text/plain": [
       "                  0\n",
       "Id                 \n",
       "1461  102560.328869\n",
       "1462  144296.688841\n",
       "1463  175885.109505\n",
       "1464  189457.465256\n",
       "1465  180300.042021\n",
       "1466  175108.469820\n",
       "1467  179549.838853\n",
       "1468  156741.363932\n",
       "1469  194478.153921\n",
       "1470  123602.024415\n",
       "1471  206807.606303\n",
       "1472  102619.053958\n",
       "1473   97039.785762\n",
       "1474  143224.284754\n",
       "1475  101562.459213\n",
       "1476  392814.511126\n",
       "1477  258120.394125\n",
       "1478  269917.651396\n",
       "1479  287089.254884\n",
       "1480  491201.293934\n",
       "1481  323090.011441\n",
       "1482  203645.449908\n",
       "1483  163010.509522\n",
       "1484  162613.799240\n",
       "1485  170627.749276\n",
       "1486  191446.328123\n",
       "1487  360225.262074\n",
       "1488  219465.070288\n",
       "1489  196718.713928\n",
       "1490  229823.885017\n",
       "...             ...\n",
       "2890   74595.548776\n",
       "2891  133688.840190\n",
       "2892   80221.584343\n",
       "2893  108412.244826\n",
       "2894   81748.185080\n",
       "2895  301342.226601\n",
       "2896  268247.280215\n",
       "2897  219424.761126\n",
       "2898  150545.697246\n",
       "2899  211071.482097\n",
       "2900  159873.289719\n",
       "2901  217178.090819\n",
       "2902  184856.665538\n",
       "2903  334328.336349\n",
       "2904  343731.966045\n",
       "2905  119098.364194\n",
       "2906  194220.207529\n",
       "2907  120246.230982\n",
       "2908  146434.055062\n",
       "2909  144682.452923\n",
       "2910   81181.350961\n",
       "2911   84216.591493\n",
       "2912  143529.652210\n",
       "2913   93021.910713\n",
       "2914   84560.460381\n",
       "2915   92608.389791\n",
       "2916   83644.499427\n",
       "2917  174349.209753\n",
       "2918  111659.610585\n",
       "2919  228019.091346\n",
       "\n",
       "[1459 rows x 1 columns]"
      ]
     },
     "execution_count": 38,
     "metadata": {},
     "output_type": "execute_result"
    }
   ],
   "source": [
    "submision = pd.DataFrame(predictions, index=indices)\n",
    "submision"
   ]
  },
  {
   "cell_type": "code",
   "execution_count": 39,
   "metadata": {},
   "outputs": [],
   "source": [
    "submision.to_csv('/Users/Tomas/Desktop/Kaggle-House-Prices-Challenge/data/poly_elastic_net.csv')"
   ]
  },
  {
   "cell_type": "code",
   "execution_count": 40,
   "metadata": {},
   "outputs": [
    {
     "data": {
      "text/plain": [
       "Pipeline(memory=None,\n",
       "     steps=[('pca', PCA(copy=True, iterated_power='auto', n_components=0.95, random_state=None,\n",
       "  svd_solver='auto', tol=0.0, whiten=False)), ('regr', ElasticNet(alpha=1.0, copy_X=True, fit_intercept=True, l1_ratio=0.5,\n",
       "      max_iter=1000, normalize=False, positive=False, precompute=False,\n",
       "      random_state=None, selection='cyclic', tol=0.0001, warm_start=False))])"
      ]
     },
     "execution_count": 40,
     "metadata": {},
     "output_type": "execute_result"
    }
   ],
   "source": [
    "elasticnet"
   ]
  },
  {
   "cell_type": "code",
   "execution_count": null,
   "metadata": {},
   "outputs": [],
   "source": []
  }
 ],
 "metadata": {
  "kernelspec": {
   "display_name": "Python 3",
   "language": "python",
   "name": "python3"
  },
  "language_info": {
   "codemirror_mode": {
    "name": "ipython",
    "version": 3
   },
   "file_extension": ".py",
   "mimetype": "text/x-python",
   "name": "python",
   "nbconvert_exporter": "python",
   "pygments_lexer": "ipython3",
   "version": "3.6.4"
  }
 },
 "nbformat": 4,
 "nbformat_minor": 2
}
