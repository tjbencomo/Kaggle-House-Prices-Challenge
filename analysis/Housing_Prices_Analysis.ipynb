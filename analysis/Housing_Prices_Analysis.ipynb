{
 "cells": [
  {
   "cell_type": "markdown",
   "metadata": {},
   "source": [
    "# House Prices Analysis: A Kaggle Competition"
   ]
  },
  {
   "cell_type": "code",
   "execution_count": 49,
   "metadata": {},
   "outputs": [],
   "source": [
    "import pandas as pd\n",
    "from sklearn.preprocessing import Imputer, LabelEncoder"
   ]
  },
  {
   "cell_type": "markdown",
   "metadata": {},
   "source": [
    "## Data Processing"
   ]
  },
  {
   "cell_type": "code",
   "execution_count": 50,
   "metadata": {
    "slideshow": {
     "slide_type": "-"
    }
   },
   "outputs": [
    {
     "name": "stdout",
     "output_type": "stream",
     "text": [
      "(1460, 81)\n"
     ]
    }
   ],
   "source": [
    "# load data\n",
    "train = pd.read_csv('/Users/Tomas/Desktop/Kaggle-House-Prices-Challenge/data/train.csv')\n",
    "print(train.shape)"
   ]
  },
  {
   "cell_type": "code",
   "execution_count": 51,
   "metadata": {},
   "outputs": [
    {
     "data": {
      "text/plain": [
       "LotFrontage      259\n",
       "Alley           1369\n",
       "MasVnrType         8\n",
       "MasVnrArea         8\n",
       "BsmtQual          37\n",
       "BsmtCond          37\n",
       "BsmtExposure      38\n",
       "BsmtFinType1      37\n",
       "BsmtFinType2      38\n",
       "Electrical         1\n",
       "FireplaceQu      690\n",
       "GarageType        81\n",
       "GarageYrBlt       81\n",
       "GarageFinish      81\n",
       "GarageQual        81\n",
       "GarageCond        81\n",
       "PoolQC          1453\n",
       "Fence           1179\n",
       "MiscFeature     1406\n",
       "dtype: int64"
      ]
     },
     "execution_count": 51,
     "metadata": {},
     "output_type": "execute_result"
    }
   ],
   "source": [
    "# columns with missing data\n",
    "def summarize_missing(df):\n",
    "    return df.isnull().sum()[df.isnull().any()]\n",
    "\n",
    "summarize_missing(train)"
   ]
  },
  {
   "cell_type": "markdown",
   "metadata": {},
   "source": [
    "Examining these columns, some features are missing much more data than others. Alley, PoolQC, and MiscFeature are missing for almost the entirety of the dataset. It makes sense to drop these features, as we would be imputing too much of the data. We use a 20% cutoff to determine which columns to impute and which to discard. "
   ]
  },
  {
   "cell_type": "code",
   "execution_count": 52,
   "metadata": {},
   "outputs": [
    {
     "data": {
      "text/plain": [
       "LotFrontage     17.739726\n",
       "Alley           93.767123\n",
       "MasVnrType       0.547945\n",
       "MasVnrArea       0.547945\n",
       "BsmtQual         2.534247\n",
       "BsmtCond         2.534247\n",
       "BsmtExposure     2.602740\n",
       "BsmtFinType1     2.534247\n",
       "BsmtFinType2     2.602740\n",
       "Electrical       0.068493\n",
       "FireplaceQu     47.260274\n",
       "GarageType       5.547945\n",
       "GarageYrBlt      5.547945\n",
       "GarageFinish     5.547945\n",
       "GarageQual       5.547945\n",
       "GarageCond       5.547945\n",
       "PoolQC          99.520548\n",
       "Fence           80.753425\n",
       "MiscFeature     96.301370\n",
       "dtype: float64"
      ]
     },
     "execution_count": 52,
     "metadata": {},
     "output_type": "execute_result"
    }
   ],
   "source": [
    "def percentage_missing(df):\n",
    "    return df.isnull().sum().divide(df.shape[0]).multiply(100)[train.isnull().any()]\n",
    "\n",
    "percentage_missing(train)"
   ]
  },
  {
   "cell_type": "markdown",
   "metadata": {},
   "source": [
    "Alley, FireplaceQu, PoolQC, Fence, MiscFeature all are missing more than 20% of their values, so these columns are dropped from the training set. NOTE: Remember to drop these during processing of test data for model building"
   ]
  },
  {
   "cell_type": "code",
   "execution_count": 53,
   "metadata": {},
   "outputs": [
    {
     "data": {
      "text/plain": [
       "(1460, 76)"
      ]
     },
     "execution_count": 53,
     "metadata": {},
     "output_type": "execute_result"
    }
   ],
   "source": [
    "train = train.drop(['Alley', 'FireplaceQu', 'PoolQC', 'Fence', 'MiscFeature'], axis=1)\n",
    "train.shape\n"
   ]
  },
  {
   "cell_type": "code",
   "execution_count": 54,
   "metadata": {},
   "outputs": [
    {
     "data": {
      "text/plain": [
       "LotFrontage    244\n",
       "dtype: int64"
      ]
     },
     "execution_count": 54,
     "metadata": {},
     "output_type": "execute_result"
    }
   ],
   "source": [
    "# Majority of missing values very little of data. Drop all columns with missing values except LotFrontage, impute those\n",
    "train = train.dropna(axis=0,how='any', subset=['MasVnrType', 'MasVnrArea', 'BsmtQual', 'BsmtCond', 'BsmtExposure', 'BsmtFinType1', 'BsmtFinType2',\n",
    "                                              'Electrical', 'GarageType', 'GarageYrBlt', 'GarageFinish', 'GarageQual', 'GarageCond'])\n",
    "summarize_missing(train)"
   ]
  },
  {
   "cell_type": "code",
   "execution_count": 55,
   "metadata": {},
   "outputs": [
    {
     "data": {
      "text/plain": [
       "(1338, 76)"
      ]
     },
     "execution_count": 55,
     "metadata": {},
     "output_type": "execute_result"
    }
   ],
   "source": [
    "train.shape"
   ]
  },
  {
   "cell_type": "markdown",
   "metadata": {},
   "source": [
    "We see that the majority of the observations were not removed, so we continue"
   ]
  },
  {
   "cell_type": "markdown",
   "metadata": {},
   "source": [
    "We decide to impute the remaining data with the mean value for each column"
   ]
  },
  {
   "cell_type": "code",
   "execution_count": 56,
   "metadata": {},
   "outputs": [],
   "source": [
    "# Impute missing data\n",
    "imputer = Imputer(missing_values= 'NaN', strategy = 'mean', axis=0)\n",
    "train['LotFrontage'] = imputer.fit_transform(train['LotFrontage'].values.reshape(-1,1))"
   ]
  },
  {
   "cell_type": "code",
   "execution_count": 57,
   "metadata": {},
   "outputs": [
    {
     "data": {
      "text/plain": [
       "Series([], dtype: int64)"
      ]
     },
     "execution_count": 57,
     "metadata": {},
     "output_type": "execute_result"
    }
   ],
   "source": [
    "# Check to make sure no more missing data\n",
    "summarize_missing(train)"
   ]
  },
  {
   "cell_type": "code",
   "execution_count": 58,
   "metadata": {},
   "outputs": [],
   "source": [
    "# Save data to file for later use\n",
    "train.to_csv('/Users/Tomas/Desktop/Kaggle-House-Prices-Challenge/data/train_modified.csv')"
   ]
  },
  {
   "cell_type": "markdown",
   "metadata": {},
   "source": [
    "## Encode and Standardize"
   ]
  },
  {
   "cell_type": "code",
   "execution_count": 59,
   "metadata": {},
   "outputs": [],
   "source": [
    "from sklearn.linear_model import LinearRegression\n",
    "from sklearn.pipeline import Pipeline\n",
    "from sklearn import preprocessing\n",
    "import numpy as np\n",
    "import Utilities"
   ]
  },
  {
   "cell_type": "code",
   "execution_count": 60,
   "metadata": {},
   "outputs": [
    {
     "name": "stdout",
     "output_type": "stream",
     "text": [
      "Dummized shape : (1338, 229)\n",
      "Normalized shape : (1338, 37)\n",
      "Combined shape : (1338, 266)\n",
      "Train shape : (1338, 266)\n"
     ]
    }
   ],
   "source": [
    "# train = train.set_index('Id')\n",
    "prices = train[\"SalePrice\"]\n",
    "prices = np.log(prices)\n",
    "\n",
    "train = Utilities.encodeAndStandardize(train)\n",
    "print(\"Train shape : {}\".format(train.shape))\n",
    "train['SalePrice'] = prices\n",
    "train.to_csv('/Users/Tomas/Desktop/Kaggle-House-Prices-Challenge/data/final_data.csv')"
   ]
  },
  {
   "cell_type": "code",
   "execution_count": 19,
   "metadata": {},
   "outputs": [],
   "source": [
    "# train.to_csv('/Users/Tomas/Desktop/Kaggle-House-Prices-Challenge/data/final_data.csv')"
   ]
  },
  {
   "cell_type": "markdown",
   "metadata": {},
   "source": [
    "## Model"
   ]
  },
  {
   "cell_type": "code",
   "execution_count": 20,
   "metadata": {},
   "outputs": [],
   "source": [
    "from sklearn.model_selection import train_test_split\n",
    "train = pd.read_csv('/Users/Tomas/Desktop/Kaggle-House-Prices-Challenge/data/final_data.csv', index_col=0)\n",
    "X_train, X_test, y_train, y_test = train_test_split(train.drop(['SalePrice'], axis=1), train['SalePrice'], test_size=0.3, random_state=42)"
   ]
  },
  {
   "cell_type": "code",
   "execution_count": 22,
   "metadata": {},
   "outputs": [
    {
     "name": "stderr",
     "output_type": "stream",
     "text": [
      "/Users/Tomas/anaconda3/lib/python3.6/site-packages/sklearn/cross_validation.py:41: DeprecationWarning: This module was deprecated in version 0.18 in favor of the model_selection module into which all the refactored classes and functions are moved. Also note that the interface of the new CV iterators are different from that of this module. This module will be removed in 0.20.\n",
      "  \"This module will be removed in 0.20.\", DeprecationWarning)\n",
      "/Users/Tomas/anaconda3/lib/python3.6/site-packages/sklearn/grid_search.py:42: DeprecationWarning: This module was deprecated in version 0.18 in favor of the model_selection module into which all the refactored classes and functions are moved. This module will be removed in 0.20.\n",
      "  DeprecationWarning)\n"
     ]
    }
   ],
   "source": [
    "from sklearn.pipeline import Pipeline\n",
    "from sklearn import linear_model\n",
    "from sklearn.decomposition import PCA\n",
    "from sklearn.metrics import mean_squared_error\n",
    "from sklearn.grid_search import GridSearchCV\n",
    "import math\n",
    "\n",
    "def rmse(predictions, truths):\n",
    "    return math.sqrt(mean_squared_error(truths, predictions))\n",
    "#     return (mean_squared_error(truths, predictions))\n",
    "\n"
   ]
  },
  {
   "cell_type": "code",
   "execution_count": 23,
   "metadata": {},
   "outputs": [
    {
     "name": "stdout",
     "output_type": "stream",
     "text": [
      "LoS Regression:\n",
      "Test MSE : 0.22037018727342347\n",
      "\n"
     ]
    },
    {
     "name": "stderr",
     "output_type": "stream",
     "text": [
      "/Users/Tomas/anaconda3/lib/python3.6/site-packages/sklearn/linear_model/base.py:509: RuntimeWarning: internal gelsd driver lwork query error, required iwork dimension not returned. This is likely the result of LAPACK bug 0038, fixed in LAPACK 3.2.2 (released July 21, 2010). Falling back to 'gelss' driver.\n",
      "  linalg.lstsq(X, y)\n"
     ]
    },
    {
     "data": {
      "text/plain": [
       "Pipeline(memory=None,\n",
       "     steps=[('pca', PCA(copy=True, iterated_power='auto', n_components=0.95, random_state=None,\n",
       "  svd_solver='auto', tol=0.0, whiten=False)), ('regr', LinearRegression(copy_X=True, fit_intercept=True, n_jobs=1, normalize=False))])"
      ]
     },
     "execution_count": 23,
     "metadata": {},
     "output_type": "execute_result"
    }
   ],
   "source": [
    "def linearRegression(X_train, X_test, y_train, y_test):\n",
    "    LoS = Pipeline([('pca', PCA(.95)), \n",
    "                     ('regr', linear_model.LinearRegression())])\n",
    "    LoS.fit(X_train, y_train)\n",
    "    predictions = LoS.predict(X_test)\n",
    "    print(\"LoS Regression:\")\n",
    "    print(\"Test MSE : {}\".format(rmse(predictions, y_test)))\n",
    "    print()\n",
    "    \n",
    "    return LoS\n",
    "    \n",
    "linearRegression(X_train, X_test, y_train, y_test)"
   ]
  },
  {
   "cell_type": "code",
   "execution_count": 24,
   "metadata": {},
   "outputs": [
    {
     "name": "stdout",
     "output_type": "stream",
     "text": [
      "Ridge Regresion:\n",
      "Best CV MSE : -0.01286108254909304\n",
      "Best params: {'regr__alpha': 0.1}\n",
      "Test MSE : 0.22035886403880112\n",
      "\n"
     ]
    },
    {
     "data": {
      "text/plain": [
       "GridSearchCV(cv=10, error_score='raise',\n",
       "       estimator=Pipeline(memory=None,\n",
       "     steps=[('pca', PCA(copy=True, iterated_power='auto', n_components=0.95, random_state=None,\n",
       "  svd_solver='auto', tol=0.0, whiten=False)), ('regr', Ridge(alpha=1.0, copy_X=True, fit_intercept=True, max_iter=None,\n",
       "   normalize=False, random_state=None, solver='auto', tol=0.001))]),\n",
       "       fit_params={}, iid=True, n_jobs=1,\n",
       "       param_grid=[{'regr__alpha': [0.1, 0.01, 0.001, 0.0001, 1e-05]}],\n",
       "       pre_dispatch='2*n_jobs', refit=True,\n",
       "       scoring='neg_mean_squared_error', verbose=0)"
      ]
     },
     "execution_count": 24,
     "metadata": {},
     "output_type": "execute_result"
    }
   ],
   "source": [
    "def ridgeRegression(X_train, X_test, y_train, y_test):\n",
    "    ridge = Pipeline([('pca', PCA(.95)), \n",
    "                     ('regr', linear_model.Ridge())])\n",
    "    \n",
    "    alphas = [.1, .01, .001, .0001, .00001]\n",
    "    grid_params = [{'regr__alpha' : alphas}]\n",
    "        \n",
    "    gridSearch = GridSearchCV(estimator = ridge, param_grid=grid_params, scoring='neg_mean_squared_error', cv = 10, n_jobs=1)\n",
    "    gridSearch.fit(X_train, y_train)\n",
    "    \n",
    "    print(\"Ridge Regresion:\")\n",
    "    print(\"Best CV MSE : {}\".format(gridSearch.best_score_))\n",
    "    print(\"Best params: {}\".format(gridSearch.best_params_))\n",
    "    predictions = gridSearch.predict(X_test)\n",
    "    print(\"Test MSE : {}\".format(rmse(predictions, y_test)))\n",
    "    print()\n",
    "    \n",
    "    return gridSearch\n",
    "\n",
    "ridgeRegression(X_train, X_test, y_train, y_test)"
   ]
  },
  {
   "cell_type": "code",
   "execution_count": 25,
   "metadata": {},
   "outputs": [
    {
     "name": "stdout",
     "output_type": "stream",
     "text": [
      "Lasso Regresion:\n",
      "Best CV MSE : -0.01252737458404693\n",
      "Best params: {'regr__alpha': 0.001}\n",
      "Test MSE : 0.21906061851816397\n",
      "\n"
     ]
    },
    {
     "data": {
      "text/plain": [
       "GridSearchCV(cv=10, error_score='raise',\n",
       "       estimator=Pipeline(memory=None,\n",
       "     steps=[('pca', PCA(copy=True, iterated_power='auto', n_components=0.95, random_state=None,\n",
       "  svd_solver='auto', tol=0.0, whiten=False)), ('regr', Lasso(alpha=1.0, copy_X=True, fit_intercept=True, max_iter=1000,\n",
       "   normalize=False, positive=False, precompute=False, random_state=None,\n",
       "   selection='cyclic', tol=0.0001, warm_start=False))]),\n",
       "       fit_params={}, iid=True, n_jobs=1,\n",
       "       param_grid=[{'regr__alpha': [0.1, 0.01, 0.001, 0.005, 0.002, 0.0001, 1e-05]}],\n",
       "       pre_dispatch='2*n_jobs', refit=True,\n",
       "       scoring='neg_mean_squared_error', verbose=0)"
      ]
     },
     "execution_count": 25,
     "metadata": {},
     "output_type": "execute_result"
    }
   ],
   "source": [
    "def lassoRegression(X_train, X_test, y_train, y_test):\n",
    "    lasso = Pipeline([('pca', PCA(.95)), \n",
    "                     ('regr', linear_model.Lasso())])\n",
    "    \n",
    "    alphas = [.1, .01, .001, .005, .002, .0001, .00001]\n",
    "    grid_params = [{'regr__alpha' : alphas}]\n",
    "        \n",
    "    gridSearch = GridSearchCV(estimator = lasso, param_grid=grid_params, scoring='neg_mean_squared_error', cv = 10, n_jobs=1)\n",
    "    gridSearch.fit(X_train, y_train)\n",
    "    \n",
    "    print(\"Lasso Regresion:\")\n",
    "    print(\"Best CV MSE : {}\".format(gridSearch.best_score_))\n",
    "    print(\"Best params: {}\".format(gridSearch.best_params_))\n",
    "    predictions = gridSearch.predict(X_test)\n",
    "    print(\"Test MSE : {}\".format(rmse(predictions, y_test)))\n",
    "    print()\n",
    "    \n",
    "    return gridSearch\n",
    "    \n",
    "lassoRegression(X_train, X_test, y_train, y_test)"
   ]
  },
  {
   "cell_type": "code",
   "execution_count": 26,
   "metadata": {},
   "outputs": [
    {
     "name": "stdout",
     "output_type": "stream",
     "text": [
      "ElasticNet Regresion:\n",
      "Best CV MSE : -0.017170193948874358\n",
      "Best params: {'regr__l1_ratio': 0.0001, 'regr__max_iter': 1}\n",
      "Test MSE : 0.19751604155133265\n",
      "\n"
     ]
    }
   ],
   "source": [
    "def elasticNetRegression(X_train, X_test, y_train, y_test):\n",
    "    elasticNet = Pipeline([('pca', PCA(.95)), \n",
    "                     ('regr', linear_model.ElasticNet())])\n",
    "    \n",
    "    l1 = [.01, .001, .001, .0001, .1, .5, 1]\n",
    "    iterations = [1, 5, 10, 20, 50]\n",
    "    grid_params = [{'regr__l1_ratio' : l1, 'regr__max_iter' : iterations}]\n",
    "        \n",
    "    gridSearch = GridSearchCV(estimator = elasticNet, param_grid=grid_params, scoring='neg_mean_squared_error', cv = 10, n_jobs=-11)\n",
    "    gridSearch.fit(X_train, y_train)\n",
    "    \n",
    "    print(\"ElasticNet Regresion:\")\n",
    "    print(\"Best CV MSE : {}\".format(gridSearch.best_score_))\n",
    "    print(\"Best params: {}\".format(gridSearch.best_params_))\n",
    "    predictions = gridSearch.predict(X_test)\n",
    "    print(\"Test MSE : {}\".format(rmse(predictions, y_test)))\n",
    "    print()\n",
    "    \n",
    "    return gridSearch\n",
    "    \n",
    "model = elasticNetRegression(X_train, X_test, y_train, y_test)"
   ]
  },
  {
   "cell_type": "markdown",
   "metadata": {},
   "source": [
    "## Test Set Evaluation"
   ]
  },
  {
   "cell_type": "code",
   "execution_count": 61,
   "metadata": {},
   "outputs": [
    {
     "data": {
      "text/plain": [
       "(1459, 80)"
      ]
     },
     "execution_count": 61,
     "metadata": {},
     "output_type": "execute_result"
    }
   ],
   "source": [
    "import Utilities\n",
    "test = pd.read_csv('/Users/Tomas/Desktop/Kaggle-House-Prices-Challenge/data/test.csv')\n",
    "test.shape"
   ]
  },
  {
   "cell_type": "code",
   "execution_count": 29,
   "metadata": {},
   "outputs": [
    {
     "name": "stdout",
     "output_type": "stream",
     "text": [
      "(1459, 80)\n"
     ]
    },
    {
     "data": {
      "text/plain": [
       "MSZoning           4\n",
       "LotFrontage      227\n",
       "Alley           1352\n",
       "Utilities          2\n",
       "Exterior1st        1\n",
       "Exterior2nd        1\n",
       "MasVnrType        16\n",
       "MasVnrArea        15\n",
       "BsmtQual          44\n",
       "BsmtCond          45\n",
       "BsmtExposure      44\n",
       "BsmtFinType1      42\n",
       "BsmtFinSF1         1\n",
       "BsmtFinType2      42\n",
       "BsmtFinSF2         1\n",
       "BsmtUnfSF          1\n",
       "TotalBsmtSF        1\n",
       "BsmtFullBath       2\n",
       "BsmtHalfBath       2\n",
       "KitchenQual        1\n",
       "Functional         2\n",
       "FireplaceQu      730\n",
       "GarageType        76\n",
       "GarageYrBlt       78\n",
       "GarageFinish      78\n",
       "GarageCars         1\n",
       "GarageArea         1\n",
       "GarageQual        78\n",
       "GarageCond        78\n",
       "PoolQC          1456\n",
       "Fence           1169\n",
       "MiscFeature     1408\n",
       "SaleType           1\n",
       "dtype: int64"
      ]
     },
     "execution_count": 29,
     "metadata": {},
     "output_type": "execute_result"
    }
   ],
   "source": [
    "print(test.shape)\n",
    "Utilities.summarize_missing(test)"
   ]
  },
  {
   "cell_type": "code",
   "execution_count": 30,
   "metadata": {},
   "outputs": [
    {
     "name": "stdout",
     "output_type": "stream",
     "text": [
      "(1459, 75)\n"
     ]
    }
   ],
   "source": [
    "test = Utilities.drop_unecessary_columns(test)\n",
    "print(test.shape)"
   ]
  },
  {
   "cell_type": "code",
   "execution_count": 31,
   "metadata": {},
   "outputs": [
    {
     "name": "stdout",
     "output_type": "stream",
     "text": [
      "MSZoning : object\n",
      "LotFrontage : float64\n",
      "Utilities : object\n",
      "Exterior1st : object\n",
      "Exterior2nd : object\n",
      "MasVnrType : object\n",
      "MasVnrArea : float64\n",
      "BsmtQual : object\n",
      "BsmtCond : object\n",
      "BsmtExposure : object\n",
      "BsmtFinType1 : object\n",
      "BsmtFinSF1 : float64\n",
      "BsmtFinType2 : object\n",
      "BsmtFinSF2 : float64\n",
      "BsmtUnfSF : float64\n",
      "TotalBsmtSF : float64\n",
      "BsmtFullBath : float64\n",
      "BsmtHalfBath : float64\n",
      "KitchenQual : object\n",
      "Functional : object\n",
      "GarageType : object\n",
      "GarageYrBlt : float64\n",
      "GarageFinish : object\n",
      "GarageCars : float64\n",
      "GarageArea : float64\n",
      "GarageQual : object\n",
      "GarageCond : object\n",
      "SaleType : object\n"
     ]
    }
   ],
   "source": [
    "missing_cols = list(Utilities.summarize_missing(test).index.values)\n",
    "missing_cols\n",
    "col_info = {}\n",
    "for col in missing_cols:\n",
    "    print(\"{} : {}\".format(col, test[col].dtype))\n",
    "    col_info[col] = str(test[col].dtype)"
   ]
  },
  {
   "cell_type": "code",
   "execution_count": 32,
   "metadata": {},
   "outputs": [
    {
     "data": {
      "text/plain": [
       "{'BsmtCond': 'object',\n",
       " 'BsmtExposure': 'object',\n",
       " 'BsmtFinSF1': 'float64',\n",
       " 'BsmtFinSF2': 'float64',\n",
       " 'BsmtFinType1': 'object',\n",
       " 'BsmtFinType2': 'object',\n",
       " 'BsmtFullBath': 'float64',\n",
       " 'BsmtHalfBath': 'float64',\n",
       " 'BsmtQual': 'object',\n",
       " 'BsmtUnfSF': 'float64',\n",
       " 'Exterior1st': 'object',\n",
       " 'Exterior2nd': 'object',\n",
       " 'Functional': 'object',\n",
       " 'GarageArea': 'float64',\n",
       " 'GarageCars': 'float64',\n",
       " 'GarageCond': 'object',\n",
       " 'GarageFinish': 'object',\n",
       " 'GarageQual': 'object',\n",
       " 'GarageType': 'object',\n",
       " 'GarageYrBlt': 'float64',\n",
       " 'KitchenQual': 'object',\n",
       " 'LotFrontage': 'float64',\n",
       " 'MSZoning': 'object',\n",
       " 'MasVnrArea': 'float64',\n",
       " 'MasVnrType': 'object',\n",
       " 'SaleType': 'object',\n",
       " 'TotalBsmtSF': 'float64',\n",
       " 'Utilities': 'object'}"
      ]
     },
     "execution_count": 32,
     "metadata": {},
     "output_type": "execute_result"
    }
   ],
   "source": [
    "col_info"
   ]
  },
  {
   "cell_type": "code",
   "execution_count": 33,
   "metadata": {},
   "outputs": [
    {
     "name": "stdout",
     "output_type": "stream",
     "text": [
      "(1459, 75)\n"
     ]
    },
    {
     "data": {
      "text/plain": [
       "Series([], dtype: int64)"
      ]
     },
     "execution_count": 33,
     "metadata": {},
     "output_type": "execute_result"
    }
   ],
   "source": [
    "# impute missing data, whether categorical or numeric\n",
    "# from sklearn_pandas import CategoricalImputer\n",
    "# imputer = CategoricalImputer()\n",
    "# x = test\n",
    "# x['MSZoning'] = imputer.fit_transform(test['MSZoning'])\n",
    "# Utilities.summarize_missing(x)\n",
    "for col in col_info:\n",
    "    if col_info[col] == \"object\":\n",
    "        test = Utilities.impute_categorical(test, col)        \n",
    "    else:\n",
    "        test = Utilities.impute_missing(test, col)\n",
    "print(test.shape)\n",
    "Utilities.summarize_missing(test)"
   ]
  },
  {
   "cell_type": "code",
   "execution_count": 34,
   "metadata": {},
   "outputs": [
    {
     "name": "stdout",
     "output_type": "stream",
     "text": [
      "Dummized shape : (1459, 218)\n",
      "Normalized shape : (1459, 36)\n",
      "Combined shape : (1459, 254)\n",
      "(1459, 254)\n"
     ]
    }
   ],
   "source": [
    "test = Utilities.encodeAndStandardize(test)\n",
    "print(test.shape)"
   ]
  },
  {
   "cell_type": "code",
   "execution_count": null,
   "metadata": {},
   "outputs": [],
   "source": [
    "predictions = model.predict(test)"
   ]
  },
  {
   "cell_type": "code",
   "execution_count": null,
   "metadata": {},
   "outputs": [],
   "source": []
  }
 ],
 "metadata": {
  "kernelspec": {
   "display_name": "Python 3",
   "language": "python",
   "name": "python3"
  },
  "language_info": {
   "codemirror_mode": {
    "name": "ipython",
    "version": 3
   },
   "file_extension": ".py",
   "mimetype": "text/x-python",
   "name": "python",
   "nbconvert_exporter": "python",
   "pygments_lexer": "ipython3",
   "version": "3.6.4"
  }
 },
 "nbformat": 4,
 "nbformat_minor": 2
}
